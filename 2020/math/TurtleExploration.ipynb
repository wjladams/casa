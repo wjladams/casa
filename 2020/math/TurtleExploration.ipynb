{
 "cells": [
  {
   "cell_type": "markdown",
   "metadata": {},
   "source": [
    "# Simple explorations with the Turtle system in Python"
   ]
  },
  {
   "cell_type": "code",
   "execution_count": 16,
   "metadata": {},
   "outputs": [],
   "source": [
    "# Import the turtle libary\n",
    "from turtle import *\n",
    "# Go home to start, that is, go to the origin (0,0)\n",
    "home()\n",
    "# Clear the screen, in case it has something in it\n",
    "clear()"
   ]
  },
  {
   "cell_type": "code",
   "execution_count": 17,
   "metadata": {},
   "outputs": [],
   "source": [
    "# Just move forward and draw the line you traveled\n",
    "forward(100)"
   ]
  },
  {
   "cell_type": "code",
   "execution_count": 18,
   "metadata": {},
   "outputs": [],
   "source": [
    "# Turn right, then move forward another 100\n",
    "# This should make 1/2 a square of length 100\n",
    "# with the other line from the previous cell\n",
    "right(90)\n",
    "forward(100)"
   ]
  },
  {
   "cell_type": "code",
   "execution_count": 19,
   "metadata": {},
   "outputs": [],
   "source": [
    "# Let's finish our square\n",
    "right(90)\n",
    "forward(100)\n",
    "right(90)\n",
    "forward(100)"
   ]
  },
  {
   "cell_type": "code",
   "execution_count": 21,
   "metadata": {},
   "outputs": [],
   "source": [
    "# Now let's restart\n",
    "clear()\n",
    "home()"
   ]
  },
  {
   "cell_type": "code",
   "execution_count": 22,
   "metadata": {},
   "outputs": [],
   "source": [
    "# Let's make the shape that is moving around a turtle, the way it should be :)\n",
    "shape('turtle')"
   ]
  },
  {
   "cell_type": "code",
   "execution_count": 24,
   "metadata": {},
   "outputs": [],
   "source": [
    "# Let's draw a bunch of squares\n",
    "speed(0)\n",
    "clear()\n",
    "color('red', 'yellow')\n",
    "begin_fill()\n",
    "angle = 10\n",
    "steps = 360//angle\n",
    "for i in range(steps):\n",
    "    # This for lop draws the square, bringing us back to our starting point\n",
    "    for i in range(4):\n",
    "        forward(100)\n",
    "        right(90)\n",
    "    # Now that we are done drawing the square let's turn a little bit\n",
    "    right(angle)\n",
    "    # The loop is over, go back to the start\n",
    "end_fill()"
   ]
  },
  {
   "cell_type": "code",
   "execution_count": null,
   "metadata": {},
   "outputs": [],
   "source": []
  }
 ],
 "metadata": {
  "kernelspec": {
   "display_name": "Python 3",
   "language": "python",
   "name": "python3"
  },
  "language_info": {
   "codemirror_mode": {
    "name": "ipython",
    "version": 3
   },
   "file_extension": ".py",
   "mimetype": "text/x-python",
   "name": "python",
   "nbconvert_exporter": "python",
   "pygments_lexer": "ipython3",
   "version": "3.7.6"
  },
  "toc": {
   "base_numbering": 1,
   "nav_menu": {},
   "number_sections": true,
   "sideBar": true,
   "skip_h1_title": false,
   "title_cell": "Table of Contents",
   "title_sidebar": "Contents",
   "toc_cell": false,
   "toc_position": {},
   "toc_section_display": true,
   "toc_window_display": false
  }
 },
 "nbformat": 4,
 "nbformat_minor": 4
}
